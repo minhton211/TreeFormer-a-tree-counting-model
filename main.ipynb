{
 "cells": [
  {
   "cell_type": "markdown",
   "metadata": {
    "id": "UEXmhoeT9Uy0"
   },
   "source": [
    "# Set up\n"
   ]
  },
  {
   "cell_type": "code",
   "execution_count": 2,
   "metadata": {
    "colab": {
     "base_uri": "https://localhost:8080/"
    },
    "executionInfo": {
     "elapsed": 19411,
     "status": "ok",
     "timestamp": 1733702110238,
     "user": {
      "displayName": "Minh Ton That Nhat",
      "userId": "11999979125064015972"
     },
     "user_tz": -60
    },
    "id": "92Ya7iez2EeR",
    "outputId": "53706ba0-bed1-4a3b-fa35-c1090085fe79"
   },
   "outputs": [
    {
     "name": "stdout",
     "output_type": "stream",
     "text": [
      "Mounted at /content/gdrive\n"
     ]
    }
   ],
   "source": [
    "from google.colab import drive\n",
    "drive.mount('/content/gdrive', force_remount=True)"
   ]
  },
  {
   "cell_type": "code",
   "execution_count": null,
   "metadata": {
    "colab": {
     "base_uri": "https://localhost:8080/"
    },
    "executionInfo": {
     "elapsed": 2331,
     "status": "ok",
     "timestamp": 1733672847701,
     "user": {
      "displayName": "Yoo Le",
      "userId": "05561634269109177838"
     },
     "user_tz": -60
    },
    "id": "35mcswqgwg5I",
    "outputId": "45dbb0d5-f863-4fda-cfbd-cca7c3bf83b8"
   },
   "outputs": [],
   "source": [
    "%cd Path/to/your/directory"
   ]
  },
  {
   "cell_type": "code",
   "execution_count": null,
   "metadata": {
    "id": "rwsDTmrE7Z3n"
   },
   "outputs": [],
   "source": [
    "%load_ext autoreload\n",
    "%autoreload 2"
   ]
  },
  {
   "cell_type": "code",
   "execution_count": null,
   "metadata": {
    "colab": {
     "base_uri": "https://localhost:8080/"
    },
    "executionInfo": {
     "elapsed": 298013,
     "status": "ok",
     "timestamp": 1733673146609,
     "user": {
      "displayName": "Yoo Le",
      "userId": "05561634269109177838"
     },
     "user_tz": -60
    },
    "id": "JvGkUSxVbCah",
    "outputId": "2faf65dc-d5e1-4f91-a9e9-82e8ba63ae31"
   },
   "outputs": [],
   "source": [
    "!pip install timm\n",
    "!python -m pip install 'git+https://github.com/facebookresearch/detectron2.git'\n",
    "!pip install wand\n",
    "!pip install torchmetrics -q\n",
    "!pip install tqdm -q"
   ]
  },
  {
   "cell_type": "markdown",
   "metadata": {
    "id": "71fnnFiOUadY"
   },
   "source": [
    "# TreeVision\n"
   ]
  },
  {
   "cell_type": "markdown",
   "metadata": {
    "id": "OhLgvMyNUadk"
   },
   "source": [
    "## Train"
   ]
  },
  {
   "cell_type": "code",
   "execution_count": null,
   "metadata": {
    "colab": {
     "base_uri": "https://localhost:8080/"
    },
    "executionInfo": {
     "elapsed": 543345,
     "status": "ok",
     "timestamp": 1733673689923,
     "user": {
      "displayName": "Yoo Le",
      "userId": "05561634269109177838"
     },
     "user_tz": -60
    },
    "id": "NhmfSHkR7Oa5",
    "outputId": "1b094d7d-0474-40d7-8241-9f8509a28874"
   },
   "outputs": [
    {
     "name": "stdout",
     "output_type": "stream",
     "text": [
      "Choose a dataset: london\n"
     ]
    }
   ],
   "source": [
    "import os\n",
    "\n",
    "dataset_name = input(\"Choose a dataset: \").lower()  # london, yosemite_512, yosemite_1536\n",
    "DATASET_PATH = os.path.join(\"datasets\", dataset_name)"
   ]
  },
  {
   "cell_type": "code",
   "execution_count": null,
   "metadata": {
    "colab": {
     "base_uri": "https://localhost:8080/"
    },
    "executionInfo": {
     "elapsed": 432,
     "status": "ok",
     "timestamp": 1733673838501,
     "user": {
      "displayName": "Yoo Le",
      "userId": "05561634269109177838"
     },
     "user_tz": -60
    },
    "id": "bkDB9vO6HnQl",
    "outputId": "c25bddfa-1c9e-480c-8ccc-74e3da3e2eda"
   },
   "outputs": [],
   "source": [
    "import wandb\n",
    "\n",
    "config = dict(\n",
    "    epochs=1,\n",
    "    batch_size=1,\n",
    "    lr=1e-4,\n",
    "    decay=5*1e-4,\n",
    "    workers=1,\n",
    "    pre=None,\n",
    "    id=wandb.util.generate_id(),\n",
    "    dataset_path=DATASET_PATH,\n",
    "    dataset_name=dataset_name)\n",
    "\n",
    "print(config[\"id\"])"
   ]
  },
  {
   "cell_type": "code",
   "execution_count": null,
   "metadata": {
    "colab": {
     "base_uri": "https://localhost:8080/",
     "height": 954
    },
    "id": "lCFOV-_iPvzL",
    "outputId": "be0bd53b-a0d0-4326-b543-c338b6f1e59f"
   },
   "outputs": [],
   "source": [
    "from train import pipeline\n",
    "\n",
    "model = pipeline(config)"
   ]
  },
  {
   "cell_type": "markdown",
   "metadata": {
    "id": "9HS32Xo3Uadl"
   },
   "source": [
    "## Validate"
   ]
  },
  {
   "cell_type": "code",
   "execution_count": null,
   "metadata": {
    "colab": {
     "base_uri": "https://localhost:8080/"
    },
    "executionInfo": {
     "elapsed": 103421,
     "status": "ok",
     "timestamp": 1733593382086,
     "user": {
      "displayName": "Tôn Thất Nhật Minh",
      "userId": "12884539841499810213"
     },
     "user_tz": -60
    },
    "id": "dOYawp5xUadl",
    "outputId": "e94c6500-71cc-4a8b-fc47-4348efff58e4"
   },
   "outputs": [],
   "source": [
    "import os\n",
    "\n",
    "import torch\n",
    "import torch.nn as nn\n",
    "from model import TreeVision\n",
    "from val import validate\n",
    "from utils import prepare_datasets\n",
    "\n",
    "\n",
    "checkpoint_path = \"weights/Path/to/your/checkpoint.pth\"\n",
    "dataset_name = input(\"Choose a dataset: \").lower()  # london, yosemite_512, yosemite_1536\n",
    "dataset_path = os.path.join(\"datasets\", dataset_name)\n",
    "\n",
    "model = TreeVision()\n",
    "model = model.cuda()\n",
    "checkpoint = torch.load(checkpoint_path)\n",
    "model.load_state_dict(checkpoint['state_dict'])\n",
    "\n",
    "_, val_list = prepare_datasets(dataset_path, dataset_name)\n",
    "\n",
    "criterion = nn.MSELoss(size_average=False).cuda()\n",
    "\n",
    "config = dict(\n",
    "    batch_size=1,\n",
    "    workers=1,\n",
    "    dataset_path=dataset_path,\n",
    "    dataset_name=dataset_name)\n",
    "\n",
    "validate(val_list, model, criterion, config)\n"
   ]
  },
  {
   "cell_type": "markdown",
   "metadata": {
    "id": "sGZTs5N0oevb"
   },
   "source": [
    "## Inference (Yosemite)"
   ]
  },
  {
   "cell_type": "code",
   "execution_count": null,
   "metadata": {
    "colab": {
     "base_uri": "https://localhost:8080/",
     "height": 211
    },
    "executionInfo": {
     "elapsed": 1806,
     "status": "error",
     "timestamp": 1733479099711,
     "user": {
      "displayName": "Tôn Thất Nhật Minh",
      "userId": "12884539841499810213"
     },
     "user_tz": -60
    },
    "id": "FFemSv61oevm",
    "outputId": "46f5d500-382e-4692-b072-5879ece8783f"
   },
   "outputs": [],
   "source": [
    "from matplotlib import cm as c\n",
    "from torchvision import datasets, transforms\n",
    "from matplotlib import pyplot as plt\n",
    "import numpy as np\n",
    "from PIL import Image\n",
    "import torch\n",
    "from scipy.ndimage import gaussian_filter\n",
    "from utils import gaussian_filter_density\n",
    "from model import TreeVision\n",
    "\n",
    "img_path = 'datasets/yosemite_512/zone_A/images/IMG_0.jpg'\n",
    "weight_path = 'weights/yosemite_512_best.pth'\n",
    "\n",
    "labels = []\n",
    "with open(img_path.replace(\"images\", \"labels\").replace(\"jpg\", \"txt\"), \"r\") as f:\n",
    "    for tree in f.readlines():\n",
    "        x, y = tree.split(\" \")\n",
    "        labels.append((float(x), float(y)))\n",
    "\n",
    "print(\"Original Image\")\n",
    "print(\"Original Count : \", len(labels))\n",
    "img = plt.imread(img_path)\n",
    "plt.imshow(img)\n",
    "plt.show()\n",
    "\n",
    "model = TreeVision()\n",
    "model = model.cuda()\n",
    "checkpoint = torch.load(weight_path)\n",
    "model.load_state_dict(checkpoint['state_dict'])\n",
    "\n",
    "transform = transforms.Compose([transforms.ToTensor(),transforms.Normalize(mean=[0.485, 0.456, 0.406],\n",
    "                                                                           std=[0.229, 0.224, 0.225]),])\n",
    "img = transform(Image.open(img_path).convert('RGB')).cuda()\n",
    "\n",
    "output = model(img.unsqueeze(0))\n",
    "print(\"Predicted Count : \",int(output.detach().cpu().sum().numpy()))\n",
    "temp = np.asarray(output.detach().cpu().reshape(output.detach().cpu().shape[2],output.detach().cpu().shape[3]))\n",
    "plt.imshow(temp,cmap = c.jet)\n",
    "plt.show()"
   ]
  },
  {
   "cell_type": "markdown",
   "metadata": {
    "id": "P5i9CXZ3vjJ_"
   },
   "source": [
    "## Inference (London)"
   ]
  },
  {
   "cell_type": "code",
   "execution_count": null,
   "metadata": {
    "colab": {
     "base_uri": "https://localhost:8080/",
     "height": 1000
    },
    "executionInfo": {
     "elapsed": 8069,
     "status": "ok",
     "timestamp": 1733593390151,
     "user": {
      "displayName": "Tôn Thất Nhật Minh",
      "userId": "12884539841499810213"
     },
     "user_tz": -60
    },
    "id": "9j5ohaf2vnMI",
    "outputId": "5db98ab6-470d-4632-bb38-d828ae320191"
   },
   "outputs": [],
   "source": [
    "from matplotlib import cm as c\n",
    "from matplotlib import pyplot as plt\n",
    "import numpy as np\n",
    "from PIL import Image\n",
    "from model import TreeVision\n",
    "import scipy.io as sio\n",
    "import os\n",
    "import torch\n",
    "\n",
    "img_path = 'datasets/london/test/images/IMG_167.jpg'\n",
    "weight_path = \"weights/london_best.pth\"\n",
    "\n",
    "print(\"Original Image\")\n",
    "img = plt.imread(img_path)\n",
    "plt.imshow(img)\n",
    "plt.show()\n",
    "\n",
    "name = os.path.basename(img_path).split('.')[0]\n",
    "gd_path = os.path.join(os.path.dirname(img_path).replace(\"images\", \"labels\"), 'GT_{}.mat'.format(name))\n",
    "keypoints = sio.loadmat(gd_path)['image_info'][0][0][0][0][0]\n",
    "gauss_path = os.path.join(os.path.dirname(img_path).replace(\"images\", \"labels\"), '{}_densitymap.npy'.format(name))\n",
    "gauss_im = torch.from_numpy(np.load(gauss_path)).float()\n",
    "plt.imshow(gauss_im, cmap = c.jet)\n",
    "\n",
    "print(\"Original Count : \", len(keypoints))\n",
    "plt.show()\n",
    "\n",
    "model = TreeVision()\n",
    "model = model.cuda()\n",
    "checkpoint = torch.load(weight_path)\n",
    "model.load_state_dict(checkpoint['state_dict'])\n",
    "\n",
    "transform = transforms.Compose([transforms.ToTensor(),transforms.Normalize(mean=[0.485, 0.456, 0.406],\n",
    "                                                                           std=[0.229, 0.224, 0.225]),])\n",
    "img = transform(Image.open(img_path).convert('RGB')).cuda()\n",
    "\n",
    "output = model(img.unsqueeze(0))\n",
    "print(\"Predicted Count : \",int(output.detach().cpu().sum().numpy()))\n",
    "temp = np.asarray(output.detach().cpu().reshape(output.detach().cpu().shape[2],output.detach().cpu().shape[3]))\n",
    "plt.imshow(temp,cmap = c.jet)\n",
    "plt.show()"
   ]
  }
 ],
 "metadata": {
  "accelerator": "GPU",
  "colab": {
   "collapsed_sections": [
    "UEXmhoeT9Uy0"
   ],
   "gpuType": "T4",
   "provenance": []
  },
  "kernelspec": {
   "display_name": "Python 3",
   "name": "python3"
  },
  "language_info": {
   "name": "python",
   "version": "3.13.0"
  }
 },
 "nbformat": 4,
 "nbformat_minor": 0
}
